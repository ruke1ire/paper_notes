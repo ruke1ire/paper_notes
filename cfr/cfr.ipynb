{
 "cells": [
  {
   "cell_type": "code",
   "execution_count": 1,
   "id": "honest-attempt",
   "metadata": {},
   "outputs": [],
   "source": [
    "import numpy as np\n",
    "import random"
   ]
  },
  {
   "cell_type": "code",
   "execution_count": 2,
   "id": "normal-saying",
   "metadata": {},
   "outputs": [],
   "source": [
    "action_space = [1,2,3]\n",
    "\n",
    "class Node:\n",
    "    def __init__(self):\n",
    "        self.probs = np.random.dirichlet(np.ones(3))\n",
    "        self.regret = np.ones(3)\n",
    "    \n",
    "    def update_regret(self,regret):\n",
    "        self.regret += regret\n",
    "        self.probs = self.regret/sum(self.regret)\n",
    "    \n",
    "    def get_prob(self):\n",
    "        return self.probs\n",
    "    \n",
    "    def sample(self):\n",
    "        return random.choices(population = action_space, weights=self.probs)[0]\n",
    "    \n",
    "    def __str__(self):\n",
    "        return str(list(self.probs))"
   ]
  },
  {
   "cell_type": "code",
   "execution_count": 3,
   "id": "outside-harvey",
   "metadata": {},
   "outputs": [],
   "source": [
    "def returns(a,b):\n",
    "    if((a-b)%3 == 1):\n",
    "        return (1,-1)\n",
    "    elif((b-a)%3 == 1):\n",
    "        return (-1,1)\n",
    "    elif(a-b == 0):\n",
    "        return (0,0)  \n",
    "\n",
    "def regret(a,b):\n",
    "    list_regret = []\n",
    "    ret_a = returns(a,b)[0]\n",
    "    for action in action_space:\n",
    "        list_regret.append(max(returns(action,b)[0]-ret_a,0))\n",
    "    return np.array(list_regret)"
   ]
  },
  {
   "cell_type": "code",
   "execution_count": 134,
   "id": "honey-hierarchy",
   "metadata": {},
   "outputs": [],
   "source": [
    "a = Node()\n",
    "b = Node()"
   ]
  },
  {
   "cell_type": "code",
   "execution_count": 135,
   "id": "dietary-travel",
   "metadata": {},
   "outputs": [],
   "source": [
    "score = np.array([0,0])\n",
    "for i in range(10000):\n",
    "    a_sample = a.sample()\n",
    "    b_sample = b.sample()\n",
    "    score += np.array(returns(a_sample,b_sample))\n",
    "    regret_a = regret(a_sample,b_sample)\n",
    "    regret_b = regret(b_sample,a_sample) \n",
    "    a.update_regret(regret_a)\n",
    "    #b.update_regret(regret_b)#comment this line to compare between a const policy and a regret minimizing policy\n",
    "    "
   ]
  },
  {
   "cell_type": "code",
   "execution_count": 136,
   "id": "dangerous-liver",
   "metadata": {},
   "outputs": [
    {
     "name": "stdout",
     "output_type": "stream",
     "text": [
      "A [0.30640268242056523, 0.26313268401724416, 0.43046463356219067]\n",
      "B [0.1488753890207202, 0.518725984862975, 0.3323986261163047]\n",
      "[ 556 -556]\n"
     ]
    }
   ],
   "source": [
    "print(\"A\",a)\n",
    "print(\"B\",b)\n",
    "print(score)"
   ]
  },
  {
   "cell_type": "code",
   "execution_count": null,
   "id": "substantial-committee",
   "metadata": {},
   "outputs": [],
   "source": []
  }
 ],
 "metadata": {
  "kernelspec": {
   "display_name": "Python 3",
   "language": "python",
   "name": "python3"
  },
  "language_info": {
   "codemirror_mode": {
    "name": "ipython",
    "version": 3
   },
   "file_extension": ".py",
   "mimetype": "text/x-python",
   "name": "python",
   "nbconvert_exporter": "python",
   "pygments_lexer": "ipython3",
   "version": "3.9.12"
  }
 },
 "nbformat": 4,
 "nbformat_minor": 5
}
